{
  "nbformat": 4,
  "nbformat_minor": 0,
  "metadata": {
    "colab": {
      "name": "NeuraSys_ Chest_X-Rays_Pneumonia_CNN.ipynb",
      "provenance": [],
      "collapsed_sections": [],
      "include_colab_link": true
    },
    "kernelspec": {
      "name": "python3",
      "display_name": "Python 3"
    }
  },
  "cells": [
    {
      "cell_type": "markdown",
      "metadata": {
        "id": "view-in-github",
        "colab_type": "text"
      },
      "source": [
        "<a href=\"https://colab.research.google.com/github/NeurasysAI/Chest_X-Rays_Pneumpnia_CCN/blob/main/NeuraSys__Chest_X_Rays_Pneumonia_CNN.ipynb\" target=\"_parent\"><img src=\"https://colab.research.google.com/assets/colab-badge.svg\" alt=\"Open In Colab\"/></a>"
      ]
    },
    {
      "cell_type": "markdown",
      "metadata": {
        "id": "slk_LsHD_TaQ"
      },
      "source": [
        "# **NeuraSys Medical AI**\r\n",
        "\r\n",
        "![NeuraSys.PNG](data:image/png;base64,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)\r\n",
        "\r\n",
        "\r\n",
        "This deep learning algorithm was built to evaluate performance in classifying medical images of the chest.\r\n",
        "The target is for the CNN (Convolutional Neural Network) to correctly classify between a normal X-ray image and pneumonia X-ray image.\r\n",
        "\r\n",
        "\r\n",
        "The dataset is organized into 3 folders (train, test, val) and contains subfolders for each image category (Pneumonia/Normal). There are 5,863 X-Ray images (JPEG) and 2 categories (Pneumonia/Normal). Chest X-ray images (anterior-posterior) were selected from retrospective cohorts of pediatric patients of one to five years old from Guangzhou Women and Children’sMedical Center, Guangzhou. All chest X-ray imaging was performed as part of patients’ routine clinical care. For the analysis of chest x-ray images, all chest radiographs were initially screened for quality control by removing all low quality or unreadable scans. The diagnoses for the images were then graded by two expert physicians before being cleared for training the AI system. In order to account for any grading errors, the evaluation set was also checked by a third expert."
      ]
    },
    {
      "cell_type": "markdown",
      "metadata": {
        "id": "SOwBJ83OgWQS"
      },
      "source": [
        "## **Download Dataset from google storage**\n",
        "\n",
        "Run cell and follow steps"
      ]
    },
    {
      "cell_type": "code",
      "metadata": {
        "id": "07au2e83f_-3"
      },
      "source": [
        "from google.colab import auth\r\n",
        "auth.authenticate_user()"
      ],
      "execution_count": null,
      "outputs": []
    },
    {
      "cell_type": "code",
      "metadata": {
        "id": "D4FHSiIggDof"
      },
      "source": [
        "!curl https://sdk.cloud.google.com | bash"
      ],
      "execution_count": null,
      "outputs": []
    },
    {
      "cell_type": "code",
      "metadata": {
        "id": "0avKW-49gHLf"
      },
      "source": [
        "!gsutil cp gs://neurasys-datasets/Chest_X-Rays-Pneumonia.npz ."
      ],
      "execution_count": null,
      "outputs": []
    },
    {
      "cell_type": "code",
      "metadata": {
        "id": "jxyDzAS5j4OY"
      },
      "source": [
        "!gsutil cp gs://neurasys-datasets/NeuraSys_CNN_X-rays_Pneumonia.h5 ."
      ],
      "execution_count": null,
      "outputs": []
    },
    {
      "cell_type": "markdown",
      "metadata": {
        "id": "zJB0A73DcBXQ"
      },
      "source": [
        "## **Import Libraries**"
      ]
    },
    {
      "cell_type": "code",
      "metadata": {
        "id": "FX0Zy2qjcAlH"
      },
      "source": [
        "from numpy import *\n",
        "import tensorflow as tf\n",
        "import keras\n",
        "from keras import datasets\n",
        "from keras.models import load_model\n",
        "from tensorflow import keras\n",
        "from tensorflow.keras import layers\n",
        "import pandas as pd\n",
        "import numpy as np\n",
        "import cv2\n",
        "import os\n",
        "import matplotlib.pyplot as plt"
      ],
      "execution_count": null,
      "outputs": []
    },
    {
      "cell_type": "markdown",
      "metadata": {
        "id": "XwYRjCK3_Z7g"
      },
      "source": [
        "## **Load Model**\r\n",
        "***The data was processed***"
      ]
    },
    {
      "cell_type": "code",
      "metadata": {
        "id": "o3wz4WRj-tk4"
      },
      "source": [
        "dataset_pneumonia = np.load('/content/Chest_X-Rays-Pneumonia.npz')\r\n",
        "print(dataset_pneumonia.files)"
      ],
      "execution_count": null,
      "outputs": []
    },
    {
      "cell_type": "markdown",
      "metadata": {
        "id": "V1hot51O_ePX"
      },
      "source": [
        "## **Extract Arrays From Dataset**\r\n",
        "\r\n",
        "X train & x test content imagen x-ray normal & x-rays pneumonia.\r\n",
        "Y train & y test content Labels witn normal & pneumonia  "
      ]
    },
    {
      "cell_type": "code",
      "metadata": {
        "id": "wqgB_vRq-woJ"
      },
      "source": [
        "x_train = dataset_pneumonia['x_train']\r\n",
        "y_train = dataset_pneumonia['y_train']\r\n",
        "x_test = dataset_pneumonia['x_test']\r\n",
        "y_test = dataset_pneumonia['y_test']"
      ],
      "execution_count": null,
      "outputs": []
    },
    {
      "cell_type": "markdown",
      "metadata": {
        "id": "lJiQZdtd_lNm"
      },
      "source": [
        "## **Normalize Data**\r\n",
        "\r\n",
        "Images are 80x80 shaped.\r\n",
        "The images are grayscale and the matrices are divided by 255 so that they are scaled from 0 to 1."
      ]
    },
    {
      "cell_type": "code",
      "metadata": {
        "id": "eRvsrC5t-yr_"
      },
      "source": [
        "class_names = ['X-Rays Normal','X-Rays Pneumonia']\r\n",
        "\r\n",
        "num_classes = 2\r\n",
        "\r\n",
        "input_shape = (80,80,1)\r\n",
        "\r\n",
        "x_train = x_train.astype(\"float32\") / 255\r\n",
        "\r\n",
        "x_test = x_test.astype(\"float32\") / 255\r\n",
        "\r\n",
        "\r\n",
        "x_train = x_train.reshape(x_train.shape[0],80,80,1)\r\n",
        "\r\n",
        "x_test = x_test.reshape(x_test.shape[0],80,80,1)\r\n",
        "\r\n",
        "y_train = keras.utils.to_categorical(y_train, num_classes)\r\n",
        "\r\n",
        "y_test = keras.utils.to_categorical(y_test, num_classes)"
      ],
      "execution_count": null,
      "outputs": []
    },
    {
      "cell_type": "markdown",
      "metadata": {
        "id": "m4dmrJpY_mOe"
      },
      "source": [
        "# **View Images**"
      ]
    },
    {
      "cell_type": "code",
      "metadata": {
        "id": "TilvongR-1by"
      },
      "source": [
        "plt.figure()\r\n",
        "plt.imshow(np.squeeze(x_test[7]))\r\n",
        "plt.colorbar()\r\n",
        "plt.grid(False)\r\n",
        "plt.show()"
      ],
      "execution_count": null,
      "outputs": []
    },
    {
      "cell_type": "markdown",
      "metadata": {
        "id": "A_XgXqiI_qsQ"
      },
      "source": [
        "## **Load Trained CNN (Convultional Neuronal Network)**\n",
        "\n",
        "The model contains 2,673,410 parameters\n"
      ]
    },
    {
      "cell_type": "code",
      "metadata": {
        "id": "mEuIHDwM-3PW"
      },
      "source": [
        "path_model = '/content/NeuraSys_CNN_X-rays_Pneumonia.h5'\r\n",
        "CNN = load_model(path_model)\r\n",
        "\r\n",
        "CNN.summary()"
      ],
      "execution_count": null,
      "outputs": []
    },
    {
      "cell_type": "markdown",
      "metadata": {
        "id": "TS-08J8v_t1e"
      },
      "source": [
        "## **CNN Predictions**\r\n",
        "\r\n",
        "Labels: 0 = X-rays normal & 1 = X-rays pneumonia.\r\n",
        "The CNN gets accuracy 99% and loss 0.01%"
      ]
    },
    {
      "cell_type": "code",
      "metadata": {
        "id": "phMDrnNH-443",
        "colab": {
          "base_uri": "https://localhost:8080/"
        },
        "outputId": "4813d60c-d41d-40c8-be77-caefd05ac633"
      },
      "source": [
        "score = CNN.evaluate(x_test, y_test, verbose=0)\r\n",
        "print(\"test loss:\", score[0])\r\n",
        "print(\"test accuracy:\", score[1])"
      ],
      "execution_count": null,
      "outputs": [
        {
          "output_type": "stream",
          "text": [
            "test loss: 0.01720198057591915\n",
            "test accuracy: 0.9983974099159241\n"
          ],
          "name": "stdout"
        }
      ]
    },
    {
      "cell_type": "code",
      "metadata": {
        "id": "1wbQK3dq-6m5",
        "colab": {
          "base_uri": "https://localhost:8080/"
        },
        "outputId": "bf870515-5dd2-479d-f750-b5e60d19a7e1"
      },
      "source": [
        "predictions = CNN.predict(x_test)\r\n",
        "predictions[67]\r\n",
        "np.argmax(predictions[67])\r\n",
        "print(class_names[np.argmax(predictions[67])])"
      ],
      "execution_count": null,
      "outputs": [
        {
          "output_type": "stream",
          "text": [
            "X-Rays Normal\n"
          ],
          "name": "stdout"
        }
      ]
    },
    {
      "cell_type": "markdown",
      "metadata": {
        "id": "A8wxaIPp_2W2"
      },
      "source": [
        "## **Predict a single image**"
      ]
    },
    {
      "cell_type": "code",
      "metadata": {
        "id": "YvITi-4V_H-X"
      },
      "source": [
        "img_size = 80\r\n",
        "img_single = x_test[400]\r\n",
        "img_single = cv2.resize(img_single, (img_size, img_size))\r\n",
        "img_single = (np.expand_dims(img_single, 0))\r\n",
        "img_single = img_single.reshape(img_single.shape[0],80,80,1)"
      ],
      "execution_count": null,
      "outputs": []
    },
    {
      "cell_type": "code",
      "metadata": {
        "id": "iQFmcgik_JsX"
      },
      "source": [
        "predictions_single = CNN.predict(img_single)\r\n",
        "print(class_names[np.argmax(predictions_single)])\r\n",
        "plt.imshow(np.squeeze(img_single))\r\n",
        "plt.show()"
      ],
      "execution_count": null,
      "outputs": []
    },
    {
      "cell_type": "markdown",
      "metadata": {
        "id": "ej8h1Y0WwULR"
      },
      "source": [
        "## **Credits**\n",
        "\n",
        "Acknowledgements Data: https://data.mendeley.com/datasets/rscbjbr9sj/2 License: CC BY 4.0 Citation: http://www.cell.com/cell/fulltext/S0092-8674(18)30154-5\n",
        "\n",
        "Dataset source:\n",
        "\n",
        "Kermany, Daniel; Zhang, Kang; Goldbaum, Michael (2018), “Labeled Optical Coherence Tomography (OCT) and Chest X-Ray Images for Classification”, Mendeley Data, V2, doi: 10.17632/rscbjbr9sj.2"
      ]
    }
  ]
}